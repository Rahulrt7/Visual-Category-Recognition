{
 "cells": [
  {
   "cell_type": "code",
   "execution_count": 16,
   "metadata": {
    "collapsed": true
   },
   "outputs": [],
   "source": [
    "import os\n",
    "import itertools\n",
    "from time import time\n",
    "\n",
    "import matplotlib\n",
    "import matplotlib.pyplot as plt\n",
    "import numpy as np\n",
    "\n",
    "from skimage import io\n",
    "from sklearn.neighbors import NearestNeighbors\n",
    "from sklearn.svm import SVC\n",
    "from skimage.transform import resize\n",
    "from sklearn.decomposition import PCA\n",
    "from sklearn.model_selection import GridSearchCV\n",
    "from sklearn.metrics import classification_report\n",
    "from sklearn.metrics import confusion_matrix\n",
    "\n",
    "%matplotlib inline"
   ]
  },
  {
   "cell_type": "code",
   "execution_count": 17,
   "metadata": {
    "collapsed": true
   },
   "outputs": [],
   "source": [
    "category = os.listdir(\"101_ObjectCategories/\")"
   ]
  },
  {
   "cell_type": "code",
   "execution_count": 18,
   "metadata": {
    "collapsed": false
   },
   "outputs": [
    {
     "name": "stdout",
     "output_type": "stream",
     "text": [
      "['accordion', 'airplanes', 'anchor', 'ant', 'barrel', 'bass', 'beaver', 'binocular', 'bonsai', 'brain', 'brontosaurus', 'buddha', 'butterfly', 'camera', 'cannon', 'car_side', 'ceiling_fan', 'cellphone', 'chandelier', 'cougar_body', 'cougar_face', 'crab', 'crayfish', 'crocodile', 'crocodile_head', 'cup', 'dalmatian', 'dollar_bill', 'dolphin', 'dragonfly', 'electric_guitar', 'elephant', 'emu', 'euphonium', 'ewer', 'Faces', 'Faces_easy', 'ferry', 'flamingo_head', 'garfield', 'gerenuk', 'gramophone', 'grand_piano', 'hawksbill', 'headphone', 'hedgehog', 'helicopter', 'ibis', 'inline_skate', 'joshua_tree', 'kangaroo', 'ketch', 'lamp', 'laptop', 'Leopards', 'llama', 'lobster', 'lotus', 'mayfly', 'menorah', 'metronome', 'minaret', 'Motorbikes', 'nautilus', 'octopus', 'okapi', 'pagoda', 'panda', 'pigeon', 'pizza', 'platypus', 'pyramid', 'revolver', 'rhino', 'rooster', 'saxophone', 'schooner', 'chair', 'flamingo', 'mandolin', 'scissors', 'scorpion', 'sea_horse', 'snoopy', 'soccer_ball', 'stapler', 'starfish', 'stegosaurus', 'stop_sign', 'strawberry', 'sunflower', 'tick', 'trilobite', 'umbrella', 'watch', 'water_lilly', 'wheelchair', 'wild_cat', 'windsor_chair', 'wrench', 'yin_yang']\n"
     ]
    }
   ],
   "source": [
    "print category"
   ]
  },
  {
   "cell_type": "code",
   "execution_count": 4,
   "metadata": {
    "collapsed": true
   },
   "outputs": [],
   "source": [
    "# Counting items(number of images) in each category\n",
    "item_count = []\n",
    "for name in category:\n",
    "    path = \"./101_ObjectCategories/\" + name\n",
    "    temp = os.listdir(path)\n",
    "    item_count.append(len(temp))"
   ]
  },
  {
   "cell_type": "code",
   "execution_count": 19,
   "metadata": {
    "collapsed": true
   },
   "outputs": [],
   "source": [
    "# lists for training, validation data and labels for both training and validation images\n",
    "train_list = []\n",
    "validation_list = [] \n",
    "label_train = []\n",
    "label_valid = []\n",
    "\n",
    "# variable to iterate through item_count list\n",
    "i = 0 \n",
    "for name in category:\n",
    "    # variable(int) to store the count of 90% of total images in a specific category\n",
    "    # PERCENTAGE OF TRAIN AND VALIDATION COUNTS CAN BE CHANGED IN ORDER TO IMPROVE RESULTS\n",
    "    count1 = int(0.7 * item_count[i])\n",
    "    \n",
    "    i += 1\n",
    "    \n",
    "    path = \"./101_ObjectCategories/\" + name\n",
    "    temp = os.listdir(path)\n",
    "    \n",
    "    # variable to iterate through count(int) images\n",
    "    j = 0\n",
    "    for item in temp:\n",
    "        # PATHS to images are stored in train_list so that we can directly access them for manipulation\n",
    "        st = path + \"/\" + item\n",
    "        # IF j is less than count append in TRAIN_LIST, ELSE append in VALIDATION_LIST\n",
    "        if j <= count1:\n",
    "            train_list.append(st)\n",
    "            # Creating label vector by appending category of specific image CORRESPONDING TO EACH IMAGE IN \n",
    "            # TRAINING MATRIX\n",
    "            label_train.append(name)\n",
    "        else:\n",
    "            validation_list.append(st)\n",
    "            label_valid.append(name)\n",
    "        j += 1\n",
    "    "
   ]
  },
  {
   "cell_type": "code",
   "execution_count": 20,
   "metadata": {
    "collapsed": false
   },
   "outputs": [
    {
     "name": "stdout",
     "output_type": "stream",
     "text": [
      "6127 2550\n",
      "6127 2550\n"
     ]
    }
   ],
   "source": [
    "print len(train_list), len(validation_list)\n",
    "print len(label_train), len(label_valid)"
   ]
  },
  {
   "cell_type": "code",
   "execution_count": 21,
   "metadata": {
    "collapsed": true
   },
   "outputs": [],
   "source": [
    "# building matrix for training data \n",
    "\n",
    "count = 0\n",
    "train_matrix = []\n",
    "for train_item in train_list:\n",
    "\n",
    "    if count == 100:\n",
    "        break\n",
    "    count += 1\n",
    "    \n",
    "    # Read image as RGB pixel matrix\n",
    "    image_mat_train = io.imread(train_item, as_grey=True)\n",
    "    \n",
    "    # Resizing image\n",
    "    image_mat_train = resize(image_mat_train, (300, 167))\n",
    "\n",
    "    # Flatten image\n",
    "    image_vector_train = []\n",
    "    for i in range(0, len(image_mat_train)):\n",
    "        for j in range(0, len(image_mat_train[0])):\n",
    "            image_vector_train.append(image_mat_train[i][j])\n",
    "            \n",
    "    train_matrix.append(image_vector_train)"
   ]
  },
  {
   "cell_type": "code",
   "execution_count": 22,
   "metadata": {
    "collapsed": true
   },
   "outputs": [],
   "source": [
    "# building matrix for validation data\n",
    "\n",
    "count = 0\n",
    "validation_matrix = []\n",
    "for valid_item in validation_list:\n",
    "\n",
    "    # Extra code to limit the execution of for loop\n",
    "    if count == 100:\n",
    "        break\n",
    "    count += 1\n",
    "    \n",
    "    # Read image as RGB pixel matrix\n",
    "    image_mat_valid = io.imread(valid_item, as_grey=True)\n",
    "    \n",
    "    # Resizing image [Chances to increase accuracy]\n",
    "    image_mat_valid = resize(image_mat_valid, (300, 167))\n",
    "\n",
    "    # Flatten image\n",
    "    image_vector_valid = []\n",
    "    for i in range(0, len(image_mat_valid)):\n",
    "        for j in range(0, len(image_mat_valid[0])):\n",
    "            image_vector_valid.append(image_mat_valid[i][j])\n",
    "            \n",
    "    validation_matrix.append(image_vector_valid)"
   ]
  },
  {
   "cell_type": "code",
   "execution_count": 23,
   "metadata": {
    "collapsed": false
   },
   "outputs": [
    {
     "name": "stdout",
     "output_type": "stream",
     "text": [
      "Time taken by PCA 2.892s::\n"
     ]
    },
    {
     "data": {
      "text/plain": [
       "array([ 0.3974073 ,  0.06896098,  0.04761306,  0.04425527,  0.03311075,\n",
       "        0.02351506,  0.02126864,  0.01856904,  0.01749402,  0.01478866,\n",
       "        0.01440678,  0.0121041 ,  0.01103192,  0.01048152,  0.00996772,\n",
       "        0.00933709,  0.0089417 ,  0.0080003 ,  0.00761883,  0.0073954 ,\n",
       "        0.00724158,  0.00658816,  0.00636027,  0.00612277,  0.00585548,\n",
       "        0.00558012,  0.00546371,  0.00513582,  0.00499839,  0.00475191,\n",
       "        0.00459165,  0.00448564,  0.0044097 ,  0.0042454 ,  0.00415673,\n",
       "        0.00398294,  0.00393161,  0.00377873,  0.00375056,  0.003638  ,\n",
       "        0.00351008,  0.00340722,  0.00336654,  0.00333748,  0.00321639,\n",
       "        0.00313896,  0.0030827 ,  0.00300079,  0.00295114,  0.00290321])"
      ]
     },
     "execution_count": 23,
     "metadata": {},
     "output_type": "execute_result"
    }
   ],
   "source": [
    "# Applying PCA for dimensionality reduction\n",
    "\n",
    "# Keeping track of time taken by PCA algorithm\n",
    "t0 = time()\n",
    "pca = PCA(n_components=50, whiten=True).fit(train_matrix)\n",
    "print \"Time taken by PCA %0.3fs::\" % (time() - t0)\n",
    "pca.explained_variance_ratio_"
   ]
  },
  {
   "cell_type": "code",
   "execution_count": 24,
   "metadata": {
    "collapsed": false
   },
   "outputs": [
    {
     "name": "stdout",
     "output_type": "stream",
     "text": [
      "Time taken 2.431s\n"
     ]
    }
   ],
   "source": [
    "# projecting the input data on the eigenfaces orthonormal basis\n",
    "t0 = time()\n",
    "X_train_pca = pca.transform(train_matrix)\n",
    "X_test_pca = pca.transform(validation_matrix)\n",
    "print \"Time taken %0.3fs\" % (time() - t0)"
   ]
  },
  {
   "cell_type": "markdown",
   "metadata": {},
   "source": [
    "### Code above this point will execute only once\n",
    "### Below code will run against each query to make prediction"
   ]
  },
  {
   "cell_type": "code",
   "execution_count": 25,
   "metadata": {
    "collapsed": true
   },
   "outputs": [],
   "source": [
    "\"\"\"\n",
    "using kNN algorithm to find (k) nearest neighbours on complete dataset(training matrix), value of k(n_neighbours) \n",
    "\"\"\"\n",
    "\n",
    "def kNN(k, image_transform):\n",
    "    neigh = NearestNeighbors(n_neighbors=k)\n",
    "    neigh.fit(X_train_pca)\n",
    "    \n",
    "    distances, indices = neigh.kneighbors(image_transform)\n",
    "    return indices[0]\n",
    "\n",
    "# checking if the neighbours have similar labels. If yes then we can return this common label wihthout training SVM\n",
    "def check_similarity(indices):\n",
    "    flag = 0\n",
    "    for i in range(0, len(indices)):\n",
    "        for j in range(0, len(indices)):\n",
    "            if label_train[i] != label_train[j]:\n",
    "                flag = 1\n",
    "                break\n",
    "        if flag == 1:\n",
    "            break\n",
    "    # if labels are similar return or print the result, else train the SVM on neighbors matrix\n",
    "    if flag == 0:\n",
    "        return 0\n",
    "    else:\n",
    "        return 1\n",
    "\n",
    "\n",
    "# Training SVM classifier only on k nearest neighbors\n",
    "# GridSearchCV search over all the possible combinations of parameters of SVM classifier and choose the best one\n",
    "def SVM(near_train, near_label, image_transform):\n",
    "    t0 = time()\n",
    "    # Here 'C' and 'gamma' are parameters provided as argument to SVM classifier\n",
    "    param_grid = {'C': [1e3, 5e3, 1e4, 5e4, 1e5],\n",
    "                  'gamma': [0.0001, 0.0005, 0.001, 0.005, 0.01, 0.1], }\n",
    "    classifier = GridSearchCV(SVC(kernel=\"rbf\", class_weight=\"balanced\"), param_grid)\n",
    "\n",
    "    classifier = classifier.fit(near_train, near_label)\n",
    "    print \"Time taken for training SVM classifier %0.3fs\\n\" % (time() - t0)\n",
    "\n",
    "    # Display the optimal value of parameters found by grid search\n",
    "    print \"Best Estimator found by grid search ::\"\n",
    "    print classifier.best_estimator_\n",
    "    \n",
    "    # Predicting using trained classifier\n",
    "    return classifier.predict(image_transform)"
   ]
  },
  {
   "cell_type": "code",
   "execution_count": 26,
   "metadata": {
    "collapsed": true
   },
   "outputs": [],
   "source": [
    "# Driver function for calling transforming image and calling kNN-SVM classifiers\n",
    "\n",
    "def make_prediction(pos, k):\n",
    "    # Convert the vector into a numpy array and fit it using pca  \n",
    "    flat_image_array = np.array(validation_matrix[pos]).reshape(1,-1)\n",
    "    image_transform = pca.transform(flat_image_array)\n",
    "    \n",
    "    indices = kNN(k, image_transform)\n",
    "    flag = check_similarity(indices)\n",
    "    if flag == 0:\n",
    "        # predicted image\n",
    "        prediction = label_train[indices[0]]\n",
    "        print \"\\n(Prediction made by kNN classifier only)\"\n",
    "    else:\n",
    "        # constructing new train_matrix and label_matix of neighbours\n",
    "        near_train = []\n",
    "        near_label = []\n",
    "        for index in indices:\n",
    "            near_train.append(X_train_pca[index])\n",
    "            near_label.append(label_train[index])\n",
    "        # calling SVM on limited number of training examples(neighbors)\n",
    "        prediction = SVM(near_train, near_label, image_transform)\n",
    "        prediction = prediction[0] # label returned as a list, extracting string label from list\n",
    "        print \"\\n(Prediction made using both kNN and SVM)\"\n",
    "    \n",
    "    # displaying output\n",
    "    print \"Predicted label of image:\"\n",
    "    print prediction\n",
    "    print \"\\nOriginal label of image:\"\n",
    "    print label_valid[pos]\n",
    "    \n",
    "    print \"\\n\\n\"\n",
    "    print \"Chosen image is displayed below:\"\n",
    "    io.imshow(io.imread(validation_list[pos], as_grey=True))"
   ]
  },
  {
   "cell_type": "code",
   "execution_count": 28,
   "metadata": {
    "collapsed": false
   },
   "outputs": [
    {
     "name": "stdout",
     "output_type": "stream",
     "text": [
      "Time taken for training SVM classifier 1.137s\n",
      "\n",
      "Best Estimator found by grid search ::\n",
      "SVC(C=1000.0, cache_size=200, class_weight='balanced', coef0=0.0,\n",
      "  decision_function_shape=None, degree=3, gamma=0.0005, kernel='rbf',\n",
      "  max_iter=-1, probability=False, random_state=None, shrinking=True,\n",
      "  tol=0.001, verbose=False)\n",
      "\n",
      "(Prediction made using both kNN and SVM)\n",
      "Predicted label of image:\n",
      "airplanes\n",
      "\n",
      "Original label of image:\n",
      "airplanes\n",
      "\n",
      "\n",
      "\n",
      "Chosen image is displayed below:\n"
     ]
    },
    {
     "data": {
      "image/png": "[encoded data removed]",
      "text/plain": [
       "<matplotlib.figure.Figure at 0x7f3d4ab2d1d0>"
      ]
     },
     "metadata": {},
     "output_type": "display_data"
    }
   ],
   "source": [
    "\"\"\"\n",
    "Driver function(make_prediction) call.\n",
    "(pos) denotes the position of an image in validation set not yet seen by the classifier.\n",
    "(k) deonotes the nearest neighbors to consider\n",
    "Output of the function will be be:\n",
    "    1. The predicted label\n",
    "    2. Origanl label of image\n",
    "    3. Image itself\n",
    "\"\"\"\n",
    "\n",
    "make_prediction(pos=50, k=100)"
   ]
  },
  {
   "cell_type": "code",
   "execution_count": null,
   "metadata": {
    "collapsed": true
   },
   "outputs": [],
   "source": []
  }
 ],
 "metadata": {
  "kernelspec": {
   "display_name": "Python [alt-env]",
   "language": "python",
   "name": "Python [alt-env]"
  },
  "language_info": {
   "codemirror_mode": {
    "name": "ipython",
    "version": 2
   },
   "file_extension": ".py",
   "mimetype": "text/x-python",
   "name": "python",
   "nbconvert_exporter": "python",
   "pygments_lexer": "ipython2",
   "version": "2.7.12"
  }
 },
 "nbformat": 4,
 "nbformat_minor": 0
}
